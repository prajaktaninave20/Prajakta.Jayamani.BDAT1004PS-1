{
 "cells": [
  {
   "cell_type": "markdown",
   "id": "3361ef88",
   "metadata": {},
   "source": [
    "Question 1"
   ]
  },
  {
   "cell_type": "code",
   "execution_count": null,
   "id": "f32888fa",
   "metadata": {},
   "outputs": [],
   "source": [
    "a=5\n",
    "b=5.0\n",
    "c=5 > 1\n",
    "d='5'\n",
    "e=5 * 2\n",
    "f='5' * 2\n",
    "g='5' + '2'\n",
    "h=5 / 2\n",
    "i=5 % 2\n",
    "j={5, 2, 1}\n",
    "k=5 == 3\n",
    "import math\n",
    "value= math.pi\n",
    "\n",
    "print(type(a))\n",
    "print(type(b))\n",
    "print(type(c))\n",
    "print(type(d))\n",
    "print(type(e))\n",
    "print(type(f))\n",
    "print(type(g))\n",
    "print(type(h))\n",
    "print(type(i))\n",
    "print(type(j))\n",
    "print(type(k))\n",
    "print(value)\n",
    "print(type(value))\n"
   ]
  },
  {
   "cell_type": "markdown",
   "id": "045e5f6b",
   "metadata": {},
   "source": [
    "Question 2"
   ]
  },
  {
   "cell_type": "code",
   "execution_count": 5,
   "id": "48a4a8ad",
   "metadata": {},
   "outputs": [
    {
     "name": "stdout",
     "output_type": "stream",
     "text": [
      "34\n",
      "True\n"
     ]
    }
   ],
   "source": [
    "#to get the length\n",
    "#Question2.a\n",
    "a='Supercalifragilisticexpialidocious'\n",
    "print(len(a))\n",
    "print(a.__contains__('ice'))\n"
   ]
  },
  {
   "cell_type": "code",
   "execution_count": 6,
   "id": "51459cf0",
   "metadata": {},
   "outputs": [
    {
     "name": "stdout",
     "output_type": "stream",
     "text": [
      "True\n"
     ]
    }
   ],
   "source": [
    "#to find the sub string\n",
    "#Question2.b\n",
    "a='Supercalifragilisticexpialidocious'\n",
    "print(a.__contains__('ice'))"
   ]
  },
  {
   "cell_type": "code",
   "execution_count": null,
   "id": "a1d097bd",
   "metadata": {},
   "outputs": [],
   "source": [
    "#to find the longest string\n",
    "#question 2.c\n",
    "a=['Bababadalgharaghtakamminarronnkonn','Superalifragilisticexpialidocious','Honorificabilitudinitatibus']\n",
    "maxnumber= max(a)\n",
    "print(maxnumber)\n",
    "print(len(maxnumber))"
   ]
  },
  {
   "cell_type": "code",
   "execution_count": 9,
   "id": "d752388e",
   "metadata": {},
   "outputs": [
    {
     "name": "stdout",
     "output_type": "stream",
     "text": [
      "Bartok\n",
      "Buxtehude\n"
     ]
    }
   ],
   "source": [
    "#dictionary sorting\n",
    "#questio 2.d\n",
    "value=['Berlioz', 'Borodin', 'Brian','Bartok', 'Bellini', 'Buxtehude', 'Bernstein']\n",
    "sorted_values=sorted(value)\n",
    "print(sorted_values[0])\n",
    "print(sorted_values[-1])"
   ]
  },
  {
   "cell_type": "markdown",
   "id": "9e169c41",
   "metadata": {},
   "source": [
    "Question 3"
   ]
  },
  {
   "cell_type": "code",
   "execution_count": 61,
   "id": "fd56d5d1",
   "metadata": {},
   "outputs": [
    {
     "name": "stdout",
     "output_type": "stream",
     "text": [
      "1.7320508075688772\n"
     ]
    }
   ],
   "source": [
    "#Traingle Value\n",
    "def triangleArea(a,b,c):\n",
    "    s = int((a+b+c)/2)\n",
    "    import math\n",
    "    area=math.sqrt(s * (s - a) * (s - b) * (s - c))\n",
    "    print(area)\n",
    "\n",
    "triangleArea(2,2,2)\n",
    "\n"
   ]
  },
  {
   "cell_type": "markdown",
   "id": "3727bdc9",
   "metadata": {},
   "source": [
    "Question 4"
   ]
  },
  {
   "cell_type": "code",
   "execution_count": 10,
   "id": "bb050ce1",
   "metadata": {},
   "outputs": [
    {
     "name": "stdout",
     "output_type": "stream",
     "text": [
      "Input the number of elements to be stored in the array: 5\n",
      "element - 0 : 11\n",
      "element - 1 : 11\n",
      "element - 2 : 11\n",
      "element - 3 : 1\n",
      "element - 4 : 1\n",
      "The Even elements are:\n",
      "[]\n",
      "The Odd elements are:\n",
      "[11, 11, 11, 1, 1]\n"
     ]
    }
   ],
   "source": [
    "# to find the even odd number\n",
    "value = int(input(\"Input the number of elements to be stored in the array: \"))\n",
    "even = []\n",
    "odd= []\n",
    "for i in range(value):\n",
    "    element = int(input(f\"element - {i} : \"))\n",
    "    if element % 2 == 0:\n",
    "        even.append(element)\n",
    "    else:\n",
    "        odd.append(element)\n",
    "\n",
    "print(\"The Even elements are:\")\n",
    "print(even)\n",
    "print(\"The Odd elements are:\")\n",
    "print(odd)"
   ]
  },
  {
   "cell_type": "markdown",
   "id": "2b778dee",
   "metadata": {},
   "source": [
    "Question 5(a)"
   ]
  },
  {
   "cell_type": "code",
   "execution_count": 2,
   "id": "23e69f3d",
   "metadata": {},
   "outputs": [
    {
     "name": "stdout",
     "output_type": "stream",
     "text": [
      "True\n",
      "False\n",
      "False\n",
      "True\n"
     ]
    }
   ],
   "source": [
    "def inside(x, y, x1, y1, x2, y2):\n",
    "    if x1 <= x <= x2 and y1 <= y <= y2:\n",
    "        return True\n",
    "    else:\n",
    "        return False\n",
    "print(inside(1,1,0,0,2,3))\n",
    "print(inside(-1,-1,0,0,2,3))\n",
    "\n",
    "#QUESTION 5B\n",
    "\n",
    "print(inside(1,1,0.3,0.5,1.1,0.7))\n",
    "print(inside(1,1,0.5,0.2,1.1,2))"
   ]
  },
  {
   "cell_type": "markdown",
   "id": "317bcd44",
   "metadata": {},
   "source": [
    "Question 6"
   ]
  },
  {
   "cell_type": "code",
   "execution_count": 6,
   "id": "ee2b578d",
   "metadata": {},
   "outputs": [
    {
     "name": "stdout",
     "output_type": "stream",
     "text": [
      "appyhay\n",
      "encilpay\n",
      "enterway\n",
      "etiasay\n"
     ]
    }
   ],
   "source": [
    "def pig(word):\n",
    "    vowels = \"aeiou\"\n",
    "    if word[0].lower() in vowels:\n",
    "        return word.lower() + \"way\"\n",
    "    else:\n",
    "        return word[1:].lower() + word[0].lower() + \"ay\"\n",
    "\n",
    "print(pig('happy'))\n",
    "print(pig('pencil'))\n",
    "print(pig('Enter'))\n",
    "print(pig('SetiA'))"
   ]
  },
  {
   "cell_type": "markdown",
   "id": "7ab29514",
   "metadata": {},
   "source": [
    "Question 7"
   ]
  },
  {
   "cell_type": "code",
   "execution_count": 1,
   "id": "1773ba82",
   "metadata": {},
   "outputs": [
    {
     "name": "stdout",
     "output_type": "stream",
     "text": [
      "There are 10 patients of blood type A.\n",
      "There are one patients of blood type B.\n",
      "There are 13 patients of blood type AB.\n",
      "There are 15 patients of blood type O.\n",
      "There are no patients of blood type OO.\n"
     ]
    }
   ],
   "source": [
    " def bldcount(bloodfile):\n",
    "    s = open(bloodfile,\"r\")\n",
    "    f = s.read()\n",
    "    o=0\n",
    "    oo=0\n",
    "    A=int(f.count(' A '))\n",
    "    B=int(f.count(' B '))\n",
    "    AB=int(f.count('AB'))\n",
    "    o=int(f.count('O'))\n",
    "    OO=int(f.count('OO'))\n",
    "   \n",
    "    print('There are', A ,'patients of blood type A.')\n",
    "    if(B==1):\n",
    "        B=str('one')\n",
    "        print('There are', B ,'patients of blood type B.')\n",
    "    print('There are', AB ,'patients of blood type AB.')\n",
    "    print('There are', o ,'patients of blood type O.')\n",
    "    if(OO==0):\n",
    "        OO=str('no')\n",
    "    print('There are', OO ,'patients of blood type OO.')\n",
    "    \n",
    "\n",
    "bldcount('bloodtype1.txt')\n",
    "    \n"
   ]
  },
  {
   "cell_type": "markdown",
   "id": "117c2bc8",
   "metadata": {},
   "source": [
    "Question 8"
   ]
  },
  {
   "cell_type": "code",
   "execution_count": 56,
   "id": "423dd48c",
   "metadata": {},
   "outputs": [
    {
     "name": "stdout",
     "output_type": "stream",
     "text": [
      "122.96544\n",
      "1.241401\n"
     ]
    }
   ],
   "source": [
    "def curconv(currency,amount):\n",
    "    openfile=open('currencies.txt',\"r\")\n",
    "    readfile=openfile.readlines()\n",
    "    #print(readfile)\n",
    "    for line in readfile:\n",
    "        #print(line)\n",
    "        \n",
    "        spl=line.split('\\t')\n",
    "        if(currency==spl[0]):\n",
    "            currency=float(spl[1])*amount\n",
    "            return currency      \n",
    "\n",
    "      \n",
    "\n",
    "#print(curconv('JPY', 100))\n",
    "print(curconv('EUR',100))\n",
    "print(curconv('JPY',100))\n",
    "\n"
   ]
  },
  {
   "cell_type": "markdown",
   "id": "b9937750",
   "metadata": {},
   "source": [
    "Question 9"
   ]
  },
  {
   "cell_type": "markdown",
   "id": "2bcd69d4",
   "metadata": {},
   "source": [
    "\n",
    "1. If we add incompatible variables (6 + ‘a’) in throw a error of Invalid Character '‘'\n",
    "2. If we try to print 12th item of a list that has only 10 we get the error of: \"list index out of rang\"\n",
    "3. if we try to print Using a value that is out of range for a function’s: ValueError exception.\n",
    "4. when you try to print undeclared variable name: 'x' is not defined\n",
    "5. If you trying to open a file that does not exist: No such file or directory: 'currens.txt'\n",
    "\n",
    "\n",
    "\n",
    "\n"
   ]
  },
  {
   "cell_type": "markdown",
   "id": "dfab7305",
   "metadata": {},
   "source": [
    "Question 10"
   ]
  },
  {
   "cell_type": "code",
   "execution_count": 87,
   "id": "5b04c098",
   "metadata": {},
   "outputs": [
    {
     "name": "stdout",
     "output_type": "stream",
     "text": [
      "[1, 1, 1, 3, 5, 1, 1, 2, 1, 0, 1, 0, 1, 2, 4, 0, 1, 2, 0, 3, 1, 0, 1, 1, 0, 0]\n",
      "[1, 0, 0, 0, 1, 0, 0, 0, 0, 0, 0, 1, 0, 0, 0, 2, 0, 0, 0, 0, 0, 0, 0, 0, 0, 0]\n"
     ]
    }
   ],
   "source": [
    "def frequencies(text):\n",
    "    letters = 'abcdefghijklmnopqrstuvwxyz'\n",
    "    freq_list = [0] * 26\n",
    "    for char in text:\n",
    "        if char.lower() in letters:\n",
    "            freq_list[letters.index(char.lower())] += 1\n",
    "    return freq_list\n",
    "\n",
    "print(frequencies('The quick red fox got bored and went home.'))\n",
    "print(frequencies('apple'))\n"
   ]
  }
 ],
 "metadata": {
  "kernelspec": {
   "display_name": "Python 3 (ipykernel)",
   "language": "python",
   "name": "python3"
  },
  "language_info": {
   "codemirror_mode": {
    "name": "ipython",
    "version": 3
   },
   "file_extension": ".py",
   "mimetype": "text/x-python",
   "name": "python",
   "nbconvert_exporter": "python",
   "pygments_lexer": "ipython3",
   "version": "3.9.13"
  }
 },
 "nbformat": 4,
 "nbformat_minor": 5
}
